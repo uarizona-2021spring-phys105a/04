{
 "cells": [
  {
   "cell_type": "markdown",
   "id": "banner-speaking",
   "metadata": {},
   "source": [
    "## PHYS 105A:  Introduction to Scientific Computing\n",
    "\n",
    "# Assignment: Monte Carlo Integration\n",
    "\n",
    "In this assignment, we will learn how to compute $\\pi$ using a Monte Carlo method."
   ]
  },
  {
   "cell_type": "code",
   "execution_count": 1,
   "id": "simple-internet",
   "metadata": {},
   "outputs": [
    {
     "name": "stdout",
     "output_type": "stream",
     "text": [
      "π = 3.141592653589793\n"
     ]
    }
   ],
   "source": [
    "# Step 1. Import Libraries\n",
    "#\n",
    "# Although there are libraries such as `numpy` and `scipy` that helps scientific computing in python,\n",
    "# we will not use these libraries for this assignment.\n",
    "# We will use python's built-in math library `math` to access `pi`.\n",
    "# For random number generation, we will use python's build-in library `random`.\n",
    "# For plotting, we will the external libraries `matplotlib`.\n",
    "\n",
    "from math import pi\n",
    "import random as rnd\n",
    "from matplotlib import pyplot as plt\n",
    "\n",
    "print('π =', pi)"
   ]
  },
  {
   "cell_type": "markdown",
   "id": "rising-stamp",
   "metadata": {},
   "source": [
    "The idea of using Monte Carlo to compute $\\pi$ is very simple.  We use the facts that\n",
    "\n",
    "* The area of a circle is $A = \\pi r^2$.\n",
    "\n",
    "Given that a quater circle with radius $r$ fits inside a $r\\times r$ box (see the figure below), the *ratio* between the red area in the following square provides:\n",
    "\n",
    "$\\pi = 4 A_\\mathrm{red}/A_\\mathrm{box}$\n",
    "\n",
    "For simplicity, we can use unit circle in this calculation."
   ]
  },
  {
   "cell_type": "code",
   "execution_count": 2,
   "id": "protecting-elizabeth",
   "metadata": {},
   "outputs": [
    {
     "data": {
      "image/png": "[encoded data removed]",
      "text/plain": [
       "<Figure size 432x288 with 1 Axes>"
      ]
     },
     "metadata": {
      "needs_background": "light"
     },
     "output_type": "display_data"
    }
   ],
   "source": [
    "fig, ax = plt.subplots()\n",
    "ax.add_patch(plt.Circle((0, 0), 1, color='r'))\n",
    "ax.get_xaxis().set_visible(False)\n",
    "ax.get_yaxis().set_visible(False)\n",
    "ax.set_aspect('equal')"
   ]
  },
  {
   "cell_type": "code",
   "execution_count": 3,
   "id": "disturbed-sharing",
   "metadata": {},
   "outputs": [
    {
     "name": "stdout",
     "output_type": "stream",
     "text": [
      "(0.4878531394177087, 0.12293321821689707)\n"
     ]
    }
   ],
   "source": [
    "# Step 2. Generate one random point within the 1x1 box\n",
    "#\n",
    "# We already learn from the lecture that python's rnd.random() function\n",
    "# returns a random number in [0,1).\n",
    "#\n",
    "# Let's now use rnd.random() to generate a random point with (x, y)\n",
    "# coordinates.\n",
    "\n",
    "def random_point():\n",
    "    return rnd.random(), rnd.random() # what should this return?\n",
    "\n",
    "# Once you finish the above function, you should be able to create a\n",
    "# random point by simply calling the function\n",
    "print(random_point())"
   ]
  },
  {
   "cell_type": "code",
   "execution_count": 4,
   "id": "funny-trial",
   "metadata": {},
   "outputs": [],
   "source": [
    "# Step 3. Check if a point is in the quarter circle\n",
    "\n",
    "def inside(x, y):\n",
    "    return x*x + y * y < 1    # how can you check if the point (x, y)\n",
    "                              # falls inside a unit circle?"
   ]
  },
  {
   "cell_type": "code",
   "execution_count": 5,
   "id": "mexican-microphone",
   "metadata": {},
   "outputs": [
    {
     "name": "stdout",
     "output_type": "stream",
     "text": [
      "786\n"
     ]
    }
   ],
   "source": [
    "# Step 4. Count the number of points inside the quarter circle\n",
    "\n",
    "n_sample = 1000\n",
    "n_inside = 0\n",
    "for i in range(n_sample):\n",
    "    # Hints: first create a random point using your random_point() function.\n",
    "    # And then check if your random point is inside the quarter circle using\n",
    "    # your inside() function.  Add one to n_inside if the point is inside.\n",
    "    x, y = random_point()\n",
    "    if inside(x, y):\n",
    "        n_inside += 1\n",
    "\n",
    "print(n_inside)"
   ]
  },
  {
   "cell_type": "code",
   "execution_count": 7,
   "id": "former-opening",
   "metadata": {},
   "outputs": [
    {
     "name": "stdout",
     "output_type": "stream",
     "text": [
      "3.144\n"
     ]
    }
   ],
   "source": [
    "# Step 5. Compute the approximation of pi based on n_insie and n_sample\n",
    "\n",
    "mypi = 4 * n_inside / n_sample # what formula did we derive to approximate pi?\n",
    "\n",
    "print(mypi)"
   ]
  },
  {
   "cell_type": "code",
   "execution_count": 8,
   "id": "consecutive-albert",
   "metadata": {},
   "outputs": [
    {
     "name": "stdout",
     "output_type": "stream",
     "text": [
      "3.168\n"
     ]
    }
   ],
   "source": [
    "# Step 6. Put steps 4 and 5 into a single function.\n",
    "#\n",
    "# The above calculation works!  However, it will be nice to put them into\n",
    "# a single function so we can simply pass in the number of sample to it and\n",
    "# get the result\n",
    "\n",
    "def montecarlo_pi(n_sample=1000):\n",
    "    n_inside = 0\n",
    "    for i in range(n_sample): # Hint: copy some of codes from Step 4 to here\n",
    "        x, y = random_point()\n",
    "        if inside(x, y):\n",
    "            n_inside += 1\n",
    "    return 4 * n_inside / n_sample # Hint: copy some of codes from Step 5 to here\n",
    "\n",
    "# You may now call `montecarlo_pi()` to get an approximation of pi\n",
    "print(montecarlo_pi())"
   ]
  },
  {
   "cell_type": "code",
   "execution_count": 9,
   "id": "funky-former",
   "metadata": {},
   "outputs": [
    {
     "data": {
      "text/plain": [
       "[<matplotlib.lines.Line2D at 0x154ee2b80>]"
      ]
     },
     "execution_count": 9,
     "metadata": {},
     "output_type": "execute_result"
    },
    {
     "data": {
      "image/png": "[encoded data removed]",
      "text/plain": [
       "<Figure size 432x288 with 1 Axes>"
      ]
     },
     "metadata": {
      "needs_background": "light"
     },
     "output_type": "display_data"
    }
   ],
   "source": [
    "# Step 7. Compute how good/bad is montecarlo_pi() to approximate pi\n",
    "#\n",
    "# We did the same thing in the lecture.  Feel free to refer back to\n",
    "# https://github.com/uarizona-2021spring-phys105a/phys105a/blob/main/04/montecarlo.ipynb\n",
    "# Basically, we want to plot the error as a function of the numbers of samples\n",
    "\n",
    "N_sample = [1000 * i for i in range(1, 100+1)]\n",
    "\n",
    "Error = []\n",
    "for n_sample in N_sample:\n",
    "    # What is the error of montecarlo_pi()?\n",
    "    # Hint: we did `from math import pi`.\n",
    "    # So `pi` has the correct value of π at machine precision.\n",
    "    error = abs(pi - montecarlo_pi(n_sample))\n",
    "    Error.append(error)\n",
    "    \n",
    "plt.loglog(N_sample, Error)\n",
    "plt.loglog(N_sample, [n_sample**(-0.5) for n_sample in N_sample])"
   ]
  },
  {
   "cell_type": "code",
   "execution_count": 10,
   "id": "nonprofit-tackle",
   "metadata": {},
   "outputs": [
    {
     "data": {
      "text/plain": [
       "[<matplotlib.lines.Line2D at 0x1550c7bb0>]"
      ]
     },
     "execution_count": 10,
     "metadata": {},
     "output_type": "execute_result"
    },
    {
     "data": {
      "image/png": "[encoded data removed]",
      "text/plain": [
       "<Figure size 432x288 with 1 Axes>"
      ]
     },
     "metadata": {
      "needs_background": "light"
     },
     "output_type": "display_data"
    }
   ],
   "source": [
    "# Step 8. Improve the above plot by drawing more realizations\n",
    "#\n",
    "# We also did this in the lecture.  Feel free to refer back to\n",
    "# https://github.com/uarizona-2021spring-phys105a/phys105a/blob/main/04/montecarlo.ipynb\n",
    "# The idea is we want to compute the error multiple times for each value of `n_sample`,\n",
    "# and average over these errors in order to make the final plot more meaningful.\n",
    "\n",
    "Error = []\n",
    "for n_sample in N_sample:\n",
    "    # Hint: you need to add an additional loop here to average the errors.\n",
    "    error = 0\n",
    "    for t in range(100):\n",
    "        error += abs(pi - montecarlo_pi(n_sample))\n",
    "    error /= 100\n",
    "    Error.append(error)\n",
    "    \n",
    "plt.loglog(N_sample, Error)\n",
    "plt.loglog(N_sample, [n_sample**(-0.5) for n_sample in N_sample])"
   ]
  },
  {
   "cell_type": "code",
   "execution_count": null,
   "id": "confused-wisdom",
   "metadata": {},
   "outputs": [],
   "source": []
  }
 ],
 "metadata": {
  "kernelspec": {
   "display_name": "Python 3",
   "language": "python",
   "name": "python3"
  },
  "language_info": {
   "codemirror_mode": {
    "name": "ipython",
    "version": 3
   },
   "file_extension": ".py",
   "mimetype": "text/x-python",
   "name": "python",
   "nbconvert_exporter": "python",
   "pygments_lexer": "ipython3",
   "version": "3.8.7"
  }
 },
 "nbformat": 4,
 "nbformat_minor": 5
}
