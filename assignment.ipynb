{
 "cells": [
  {
   "cell_type": "markdown",
   "id": "similar-light",
   "metadata": {},
   "source": [
    "## PHYS 105A:  Introduction to Scientific Computing\n",
    "\n",
    "# Assignment: Monte Carlo Integration\n",
    "\n",
    "In this assignment, we will learn how to compute $\\pi$ using a Monte Carlo method."
   ]
  },
  {
   "cell_type": "code",
   "execution_count": null,
   "id": "biblical-india",
   "metadata": {},
   "outputs": [],
   "source": [
    "# Step 1. Import Libraries\n",
    "#\n",
    "# Although there are libraries such as `numpy` and `scipy` that helps scientific computing in python,\n",
    "# we will not use these libraries for this assignment.\n",
    "# We will use python's built-in math library `math` to access `pi`.\n",
    "# For random number generation, we will use python's build-in library `random`.\n",
    "# For plotting, we will the external libraries `matplotlib`.\n",
    "\n",
    "from math import pi\n",
    "import random as rnd\n",
    "from matplotlib import pyplot as plt\n",
    "\n",
    "print('π =', pi)"
   ]
  },
  {
   "cell_type": "markdown",
   "id": "unauthorized-anchor",
   "metadata": {},
   "source": [
    "The idea of using Monte Carlo to compute $\\pi$ is very simple.  We use the facts that\n",
    "\n",
    "* The area of a circle is $A = \\pi r^2$.\n",
    "\n",
    "Given that a quater circle with radius $r$ fits inside a $r\\times r$ box (see the figure below), the *ratio* between the red area in the following square provides:\n",
    "\n",
    "$\\pi = 4 A_\\mathrm{red}/A_\\mathrm{box}$\n",
    "\n",
    "For simplicity, we can use unit circle in this calculation."
   ]
  },
  {
   "cell_type": "code",
   "execution_count": null,
   "id": "chronic-draft",
   "metadata": {},
   "outputs": [],
   "source": [
    "fig, ax = plt.subplots()\n",
    "ax.add_patch(plt.Circle((0, 0), 1, color='r'))\n",
    "ax.get_xaxis().set_visible(False)\n",
    "ax.get_yaxis().set_visible(False)\n",
    "ax.set_aspect('equal')"
   ]
  },
  {
   "cell_type": "code",
   "execution_count": null,
   "id": "returning-quantum",
   "metadata": {},
   "outputs": [],
   "source": [
    "# Step 2. Generate one random point within the 1x1 box\n",
    "#\n",
    "# We already learn from the lecture that python's rnd.random() function\n",
    "# returns a random number in [0,1).\n",
    "#\n",
    "# Let's now use rnd.random() to generate a random point with (x, y)\n",
    "# coordinates.\n",
    "\n",
    "def random_point():\n",
    "    return rnd.random(), rnd.random() # what should this return?\n",
    "\n",
    "# Once you finish the above function, you should be able to create a\n",
    "# random point by simply calling the function\n",
    "print(random_point())"
   ]
  },
  {
   "cell_type": "code",
   "execution_count": null,
   "id": "convertible-chicago",
   "metadata": {},
   "outputs": [],
   "source": [
    "# Step 3. Check if a point is in the quarter circle\n",
    "\n",
    "def inside(x, y):\n",
    "    return # ~~~~~~~~~~~~~~~~ # how can you check if the point (x, y)\n",
    "                              # falls inside a unit circle?"
   ]
  },
  {
   "cell_type": "code",
   "execution_count": null,
   "id": "suspended-atlanta",
   "metadata": {},
   "outputs": [],
   "source": [
    "# Step 4. Count the number of points inside the quarter circle\n",
    "\n",
    "n_sample = 1000\n",
    "n_inside = 0\n",
    "for i in range(n_sample):\n",
    "    # Hints: first create a random point using your random_point() function.\n",
    "    # And then check if your random point is inside the quarter circle using\n",
    "    # your inside() function.  Add one to n_inside if the point is inside.\n",
    "    # ~~~~~~~~~~~~~~~~\n",
    "\n",
    "print(n_inside)"
   ]
  },
  {
   "cell_type": "code",
   "execution_count": null,
   "id": "continuing-canadian",
   "metadata": {},
   "outputs": [],
   "source": [
    "# Step 5. Compute the approximation of pi based on n_insie and n_sample\n",
    "\n",
    "mypi = # ~~~~~~~~~~~~~~~~ # what formula did we derive to approximate pi?\n",
    "\n",
    "print(mypi)"
   ]
  },
  {
   "cell_type": "code",
   "execution_count": null,
   "id": "warming-mainland",
   "metadata": {},
   "outputs": [],
   "source": [
    "# Step 6. Put steps 4 and 5 into a single function.\n",
    "#\n",
    "# The above calculation works!  However, it will be nice to put them into\n",
    "# a single function so we can simply pass in the number of sample to it and\n",
    "# get the result\n",
    "\n",
    "def montecarlo_pi(n_sample=1000):\n",
    "    n_inside = 0\n",
    "    # ~~~~~~~~~~~~~~~~        # Hint: copy some of codes from Step 4 to here\n",
    "    return # ~~~~~~~~~~~~~~~~ # Hint: copy some of codes from Step 5 to here\n",
    "\n",
    "# You may now call `montecarlo_pi()` to get an approximation of pi\n",
    "print(montecarlo_pi())"
   ]
  },
  {
   "cell_type": "code",
   "execution_count": null,
   "id": "tested-paper",
   "metadata": {},
   "outputs": [],
   "source": [
    "# Step 7. Compute how good/bad is montecarlo_pi() to approximate pi\n",
    "#\n",
    "# We did the same thing in the lecture.  Feel free to refer back to\n",
    "# https://github.com/uarizona-2021spring-phys105a/phys105a/blob/main/04/montecarlo.ipynb\n",
    "# Basically, we want to plot the error as a function of the numbers of samples\n",
    "\n",
    "N_sample = [1000 * i for i in range(1, 100+1)]\n",
    "\n",
    "Error = []\n",
    "for n_sample in N_sample:\n",
    "    # What is the error of montecarlo_pi()?\n",
    "    # Hint: we did `from math import pi`.\n",
    "    # So `pi` has the correct value of π at machine precision.\n",
    "    error = # ~~~~~~~~~~~~~~~~\n",
    "    Error.append(error)\n",
    "    \n",
    "plt.loglog(N_sample, Error)\n",
    "plt.loglog(N_sample, [n_sample**(-0.5) for n_sample in N_sample])"
   ]
  },
  {
   "cell_type": "code",
   "execution_count": null,
   "id": "instructional-emergency",
   "metadata": {},
   "outputs": [],
   "source": [
    "# Step 8. Improve the above plot by drawing more realizations\n",
    "#\n",
    "# We also did this in the lecture.  Feel free to refer back to\n",
    "# https://github.com/uarizona-2021spring-phys105a/phys105a/blob/main/04/montecarlo.ipynb\n",
    "# The idea is we want to compute the error multiple times for each value of `n_sample`,\n",
    "# and average over these errors in order to make the final plot more meaningful.\n",
    "\n",
    "Error = []\n",
    "for n_sample in N_sample:\n",
    "    # Hint: you need to add an additional loop here to average the errors.\n",
    "    # ~~~~~~~~~~~~~~~~\n",
    "    Error.append(error)\n",
    "    \n",
    "plt.loglog(N_sample, Error)\n",
    "plt.loglog(N_sample, [n_sample**(-0.5) for n_sample in N_sample])"
   ]
  },
  {
   "cell_type": "code",
   "execution_count": null,
   "id": "environmental-detroit",
   "metadata": {},
   "outputs": [],
   "source": []
  }
 ],
 "metadata": {
  "kernelspec": {
   "display_name": "Python 3",
   "language": "python",
   "name": "python3"
  },
  "language_info": {
   "codemirror_mode": {
    "name": "ipython",
    "version": 3
   },
   "file_extension": ".py",
   "mimetype": "text/x-python",
   "name": "python",
   "nbconvert_exporter": "python",
   "pygments_lexer": "ipython3",
   "version": "3.8.7"
  }
 },
 "nbformat": 4,
 "nbformat_minor": 5
}
